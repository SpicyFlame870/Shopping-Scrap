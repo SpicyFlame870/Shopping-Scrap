{
 "cells": [
  {
   "cell_type": "code",
   "execution_count": 308,
   "id": "93c7ce22",
   "metadata": {},
   "outputs": [],
   "source": [
    "import bs4\n",
    "import os\n",
    "import json\n",
    "import requests\n",
    "\n",
    "url = \"http://books.toscrape.com/\""
   ]
  },
  {
   "cell_type": "code",
   "execution_count": 309,
   "id": "86bf5a90",
   "metadata": {},
   "outputs": [],
   "source": [
    "request_data = bs4.BeautifulSoup(requests.get(url).content)"
   ]
  },
  {
   "cell_type": "code",
   "execution_count": 339,
   "id": "0a2707c4",
   "metadata": {},
   "outputs": [],
   "source": [
    "category_list = request_data.find('ul',{'class':'nav nav-list'})"
   ]
  },
  {
   "cell_type": "code",
   "execution_count": 340,
   "id": "c2af2a66",
   "metadata": {},
   "outputs": [],
   "source": [
    "category_list = category_list.findAll('li')\n",
    "#len(category_list)"
   ]
  },
  {
   "cell_type": "code",
   "execution_count": 330,
   "id": "9c110cc7",
   "metadata": {},
   "outputs": [],
   "source": [
    "category_list_dup = category_list.copy()\n",
    "category_list.clear()\n",
    "for item in category_list_dup[1:]:\n",
    "    item_dic = {\n",
    "        'name': item.text.strip(),\n",
    "        'href':\"https://books.toscrape.com/\" + item.find('a')['href']\n",
    "    }\n",
    "    category_list.append(item_dic)"
   ]
  },
  {
   "cell_type": "code",
   "execution_count": 331,
   "id": "2ef64008",
   "metadata": {},
   "outputs": [],
   "source": [
    "path = os.getcwd()\n",
    "for item in category_list:\n",
    "    os.mkdir(\"{}\\\\{}\".format(path,item['name']))"
   ]
  },
  {
   "cell_type": "code",
   "execution_count": 337,
   "id": "7b1d54d5",
   "metadata": {},
   "outputs": [],
   "source": [
    "for category in category_list:\n",
    "    category_data = bs4.BeautifulSoup(requests.get(category['href']).content)\n",
    "    \n",
    "    \n",
    "        \n",
    "    books = category_data.findAll('div',{'class':'image_container'})\n",
    "    book_urls = []\n",
    "    for book in books:\n",
    "        book_url = book.find('a')['href'][9:]\n",
    "        book_urls.append(book_url)\n",
    "   \n",
    "    for book_url in book_urls:\n",
    "        book_data = bs4.BeautifulSoup(requests.get(\"http://books.toscrape.com/catalogue/{}\".format(book_url)).content)\n",
    "        \n",
    "        book_name = book_data.find('h1').text\n",
    "        restricted_char = '*/\\:?|<>\"'\n",
    "        \n",
    "        for char in restricted_char:\n",
    "            book_name = book_name.replace(char,'')\n",
    "            \n",
    "        #print(book_name)\n",
    "        book_name = book_name[0:186]\n",
    "        \n",
    "        try:\n",
    "            os.mkdir(\"{}\\\\{}\\\\{}\".format(os.getcwd(),category['name'],book_name))\n",
    "        except:\n",
    "            continue\n",
    "        \n",
    "        img_url = \"http://books.toscrape.com/\" + book_data.find('div',{'class':'item active'}).find('img')['src'][6:]\n",
    "        \n",
    "        img_data = requests.get(img_url).content\n",
    "        with open(\"./{}/{}/image.jpg\".format(category['name'],book_name),'wb') as file:\n",
    "            file.write(img_data)\n",
    "        \n",
    "        \n",
    "        data = {\n",
    "            'name': book_data.find('h1').text,\n",
    "            'price': book_data.find('p',{'class':'price_color'}).text,\n",
    "            'UPC':book_data.find('table').findAll('td')[0].text,\n",
    "            'tax':book_data.find('table').findAll('td')[4].text,\n",
    "            'availabillity':book_data.find('table').findAll('td')[5].text,\n",
    "            'reviews':book_data.find('table').findAll('td')[6].text,\n",
    "            'description':book_data.findAll('p')[3].text\n",
    "        }\n",
    "        \n",
    "        data = json.dumps(data)\n",
    "        \n",
    "        with open(\"./{}/{}/data.txt\".format(category['name'],book_name),'w') as file:\n",
    "            file.write(data)"
   ]
  },
  {
   "cell_type": "code",
   "execution_count": null,
   "id": "4c29d838",
   "metadata": {},
   "outputs": [],
   "source": []
  },
  {
   "cell_type": "code",
   "execution_count": null,
   "id": "d3225683",
   "metadata": {},
   "outputs": [],
   "source": []
  },
  {
   "cell_type": "code",
   "execution_count": null,
   "id": "e03bbeea",
   "metadata": {},
   "outputs": [],
   "source": []
  },
  {
   "cell_type": "code",
   "execution_count": null,
   "id": "a6fbbecb",
   "metadata": {},
   "outputs": [],
   "source": []
  }
 ],
 "metadata": {
  "kernelspec": {
   "display_name": "Python 3",
   "language": "python",
   "name": "python3"
  },
  "language_info": {
   "codemirror_mode": {
    "name": "ipython",
    "version": 3
   },
   "file_extension": ".py",
   "mimetype": "text/x-python",
   "name": "python",
   "nbconvert_exporter": "python",
   "pygments_lexer": "ipython3",
   "version": "3.8.8"
  }
 },
 "nbformat": 4,
 "nbformat_minor": 5
}
